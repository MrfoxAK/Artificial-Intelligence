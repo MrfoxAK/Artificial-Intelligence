{
 "cells": [
  {
   "cell_type": "markdown",
   "metadata": {},
   "source": [
    "Normalization, in the context of machine learning, refers to the rescaling of the features to a range of [0, 1]. It is also known as Min-Max scaling. \n",
    "\n",
    "The formula for normalization is:\n",
    "\n",
    "\\[ x_{\\text{norm}} = \\frac{x - x_{\\text{min}}}{x_{\\text{max}} - x_{\\text{min}}} \\]\n",
    "\n",
    "where:\n",
    "- \\( x \\) is the original feature value,\n",
    "- \\( x_{\\text{min}} \\) is the minimum value of the feature,\n",
    "- \\( x_{\\text{max}} \\) is the maximum value of the feature, and\n",
    "- \\( x_{\\text{norm}} \\) is the normalized feature value.\n",
    "\n",
    "Normalization is useful when the features have different ranges and units, and the algorithm you are using requires features to be on a similar scale. It helps in speeding up the convergence of the learning algorithm."
   ]
  },
  {
   "cell_type": "markdown",
   "metadata": {},
   "source": [
    "Standardization, also known as z-score normalization, is a technique used in machine learning to rescale features so that they have the properties of a standard normal distribution with a mean of 0 and a standard deviation of 1. This transformation is important because it ensures that certain features do not dominate the learning algorithm due to their larger scale.\n",
    "\n",
    "The formula for standardization is:\n",
    "\n",
    "\\[ x_{\\text{std}} = \\frac{x - \\mu}{\\sigma} \\]\n",
    "\n",
    "where:\n",
    "- \\( x \\) is the original feature value,\n",
    "- \\( \\mu \\) is the mean of the feature values,\n",
    "- \\( \\sigma \\) is the standard deviation of the feature values, and\n",
    "- \\( x_{\\text{std}} \\) is the standardized feature value.\n",
    "\n",
    "Standardization is commonly applied to features before training a model, especially in algorithms that are sensitive to the scale of the input features, such as support vector machines (SVMs) or k-means clustering."
   ]
  },
  {
   "cell_type": "code",
   "execution_count": 1,
   "metadata": {},
   "outputs": [
    {
     "name": "stdout",
     "output_type": "stream",
     "text": [
      "Original Data:\n",
      "[[44. 47. 64.]\n",
      " [67. 67.  9.]\n",
      " [83. 21. 36.]\n",
      " [87. 70. 88.]\n",
      " [88. 12. 58.]]\n",
      "\n",
      "Standardized Data:\n",
      "[[-1.78420724  0.15308204  0.48610445]\n",
      " [-0.40713454  1.00353779 -1.57049131]\n",
      " [ 0.55082908 -0.95251044 -0.56088975]\n",
      " [ 0.79031998  1.13110615  1.38352806]\n",
      " [ 0.85019271 -1.33521553  0.26174855]]\n",
      "\n",
      "Normalized Data:\n",
      "[[0.         0.60344828 0.69620253]\n",
      " [0.52272727 0.94827586 0.        ]\n",
      " [0.88636364 0.15517241 0.34177215]\n",
      " [0.97727273 1.         1.        ]\n",
      " [1.         0.         0.62025316]]\n"
     ]
    }
   ],
   "source": [
    "import numpy as np\n",
    "from sklearn.preprocessing import StandardScaler, MinMaxScaler\n",
    "\n",
    "# Create a dummy dataset\n",
    "np.random.seed(0)\n",
    "data = np.random.randint(0, 100, (5, 3)).astype(float)\n",
    "print(\"Original Data:\")\n",
    "print(data)\n",
    "\n",
    "# Standardization\n",
    "scaler = StandardScaler()\n",
    "data_standardized = scaler.fit_transform(data)\n",
    "print(\"\\nStandardized Data:\")\n",
    "print(data_standardized)\n",
    "\n",
    "# Normalization\n",
    "min_max_scaler = MinMaxScaler()\n",
    "data_normalized = min_max_scaler.fit_transform(data)\n",
    "print(\"\\nNormalized Data:\")\n",
    "print(data_normalized)\n"
   ]
  },
  {
   "cell_type": "code",
   "execution_count": null,
   "metadata": {},
   "outputs": [],
   "source": []
  }
 ],
 "metadata": {
  "kernelspec": {
   "display_name": "tf",
   "language": "python",
   "name": "python3"
  },
  "language_info": {
   "codemirror_mode": {
    "name": "ipython",
    "version": 3
   },
   "file_extension": ".py",
   "mimetype": "text/x-python",
   "name": "python",
   "nbconvert_exporter": "python",
   "pygments_lexer": "ipython3",
   "version": "3.9.18"
  }
 },
 "nbformat": 4,
 "nbformat_minor": 2
}
